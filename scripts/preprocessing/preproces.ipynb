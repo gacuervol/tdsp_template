{
 "cells": [
  {
   "attachments": {},
   "cell_type": "markdown",
   "metadata": {},
   "source": [
    "# Preprocesamiento\n",
    "---\n"
   ]
  },
  {
   "cell_type": "code",
   "execution_count": 2,
   "metadata": {},
   "outputs": [],
   "source": [
    "import numpy as np\n",
    "import pandas as pd\n",
    "import xarray as xr"
   ]
  },
  {
   "attachments": {},
   "cell_type": "markdown",
   "metadata": {},
   "source": [
    "## Preprocesamiento db1\n",
    "---\n",
    "Se realiza el preprocesamiento de la base de datos [Total Sediment Thickness of the World's Oceans and Marginal Seas Version 3 (GlobSed)](https://www.ngdc.noaa.gov/mgg/sedthick/data/version3/GlobSed.zip)"
   ]
  },
  {
   "cell_type": "code",
   "execution_count": 113,
   "metadata": {},
   "outputs": [
    {
     "name": "stderr",
     "output_type": "stream",
     "text": [
      "/tmp/ipykernel_5031/1386674574.py:1: DtypeWarning: Columns (2,3,6,7,8,9,10,11,12,13,14,16,17,18,19,20,21,22,23,24,25,26,27,28,29,30,31,32,33,34,35,36,37,38,39,40,41,42,43,44,45,46,47,48,49,50,51,52,53,54,55,56,57,58,59,60,61) have mixed types. Specify dtype option on import or set low_memory=False.\n",
      "  db1 = pd.read_csv('/home/mofoko/Documents/Metodologias/tdsp_template/scripts/data_acquisition/IHFC_2023_GHFDB.csv',\n"
     ]
    },
    {
     "data": {
      "text/html": [
       "<div>\n",
       "<style scoped>\n",
       "    .dataframe tbody tr th:only-of-type {\n",
       "        vertical-align: middle;\n",
       "    }\n",
       "\n",
       "    .dataframe tbody tr th {\n",
       "        vertical-align: top;\n",
       "    }\n",
       "\n",
       "    .dataframe thead th {\n",
       "        text-align: right;\n",
       "    }\n",
       "</style>\n",
       "<table border=\"1\" class=\"dataframe\">\n",
       "  <thead>\n",
       "    <tr style=\"text-align: right;\">\n",
       "      <th></th>\n",
       "      <th>ID</th>\n",
       "      <th>q</th>\n",
       "      <th>q_unc</th>\n",
       "      <th>name</th>\n",
       "      <th>lat</th>\n",
       "      <th>lng</th>\n",
       "      <th>elevation</th>\n",
       "      <th>Ref_1</th>\n",
       "      <th>q_acq</th>\n",
       "      <th>env</th>\n",
       "      <th>...</th>\n",
       "      <th>tc_pTfunc</th>\n",
       "      <th>tc_numb</th>\n",
       "      <th>tc_strategy</th>\n",
       "      <th>Ref_ISGN</th>\n",
       "      <th>A_dom</th>\n",
       "      <th>A_reg</th>\n",
       "      <th>A_cont</th>\n",
       "      <th>A_year</th>\n",
       "      <th>Unnamed: 63</th>\n",
       "      <th>Unnamed: 64</th>\n",
       "    </tr>\n",
       "  </thead>\n",
       "  <tbody>\n",
       "    <tr>\n",
       "      <th>0</th>\n",
       "      <td>1.0</td>\n",
       "      <td>201.0</td>\n",
       "      <td>NaN</td>\n",
       "      <td>C21-3F</td>\n",
       "      <td>-16.0733</td>\n",
       "      <td>-17.2717</td>\n",
       "      <td>-3855.9</td>\n",
       "      <td>Abbott_2008</td>\n",
       "      <td>NaN</td>\n",
       "      <td>NaN</td>\n",
       "      <td>...</td>\n",
       "      <td>NaN</td>\n",
       "      <td>NaN</td>\n",
       "      <td>NaN</td>\n",
       "      <td>NaN</td>\n",
       "      <td>marine</td>\n",
       "      <td>South Atlantic Ocean</td>\n",
       "      <td>South American Plate</td>\n",
       "      <td>2008.0</td>\n",
       "      <td>NaN</td>\n",
       "      <td>NaN</td>\n",
       "    </tr>\n",
       "    <tr>\n",
       "      <th>1</th>\n",
       "      <td>2.0</td>\n",
       "      <td>214.0</td>\n",
       "      <td>NaN</td>\n",
       "      <td>C21-3G</td>\n",
       "      <td>-16.0733</td>\n",
       "      <td>-17.2717</td>\n",
       "      <td>-3855.9</td>\n",
       "      <td>Abbott_2008</td>\n",
       "      <td>NaN</td>\n",
       "      <td>NaN</td>\n",
       "      <td>...</td>\n",
       "      <td>NaN</td>\n",
       "      <td>NaN</td>\n",
       "      <td>NaN</td>\n",
       "      <td>NaN</td>\n",
       "      <td>marine</td>\n",
       "      <td>South Atlantic Ocean</td>\n",
       "      <td>South American Plate</td>\n",
       "      <td>2008.0</td>\n",
       "      <td>NaN</td>\n",
       "      <td>NaN</td>\n",
       "    </tr>\n",
       "    <tr>\n",
       "      <th>2</th>\n",
       "      <td>3.0</td>\n",
       "      <td>46.0</td>\n",
       "      <td>NaN</td>\n",
       "      <td>C27-3C</td>\n",
       "      <td>-0.9917</td>\n",
       "      <td>81.3983</td>\n",
       "      <td>-4720.3</td>\n",
       "      <td>Abbott_2008</td>\n",
       "      <td>NaN</td>\n",
       "      <td>NaN</td>\n",
       "      <td>...</td>\n",
       "      <td>NaN</td>\n",
       "      <td>NaN</td>\n",
       "      <td>NaN</td>\n",
       "      <td>NaN</td>\n",
       "      <td>marine</td>\n",
       "      <td>Indian Ocean</td>\n",
       "      <td>Indo-Australian Plate</td>\n",
       "      <td>2008.0</td>\n",
       "      <td>NaN</td>\n",
       "      <td>NaN</td>\n",
       "    </tr>\n",
       "    <tr>\n",
       "      <th>3</th>\n",
       "      <td>4.0</td>\n",
       "      <td>57.0</td>\n",
       "      <td>NaN</td>\n",
       "      <td>C27-3D</td>\n",
       "      <td>-0.9917</td>\n",
       "      <td>81.3983</td>\n",
       "      <td>-4720.3</td>\n",
       "      <td>Abbott_2008</td>\n",
       "      <td>NaN</td>\n",
       "      <td>NaN</td>\n",
       "      <td>...</td>\n",
       "      <td>NaN</td>\n",
       "      <td>NaN</td>\n",
       "      <td>NaN</td>\n",
       "      <td>NaN</td>\n",
       "      <td>marine</td>\n",
       "      <td>Indian Ocean</td>\n",
       "      <td>Indo-Australian Plate</td>\n",
       "      <td>2008.0</td>\n",
       "      <td>NaN</td>\n",
       "      <td>NaN</td>\n",
       "    </tr>\n",
       "    <tr>\n",
       "      <th>4</th>\n",
       "      <td>5.0</td>\n",
       "      <td>176.0</td>\n",
       "      <td>NaN</td>\n",
       "      <td>EL21-10A</td>\n",
       "      <td>-39.9900</td>\n",
       "      <td>-109.8550</td>\n",
       "      <td>-3194.4</td>\n",
       "      <td>Abbott_2008</td>\n",
       "      <td>NaN</td>\n",
       "      <td>NaN</td>\n",
       "      <td>...</td>\n",
       "      <td>NaN</td>\n",
       "      <td>NaN</td>\n",
       "      <td>NaN</td>\n",
       "      <td>NaN</td>\n",
       "      <td>marine</td>\n",
       "      <td>South Pacific Ocean</td>\n",
       "      <td>Antarctic Plate</td>\n",
       "      <td>2008.0</td>\n",
       "      <td>NaN</td>\n",
       "      <td>NaN</td>\n",
       "    </tr>\n",
       "  </tbody>\n",
       "</table>\n",
       "<p>5 rows × 65 columns</p>\n",
       "</div>"
      ],
      "text/plain": [
       "    ID      q q_unc      name      lat       lng elevation        Ref_1 q_acq  \\\n",
       "0  1.0  201.0   NaN    C21-3F -16.0733  -17.2717   -3855.9  Abbott_2008   NaN   \n",
       "1  2.0  214.0   NaN    C21-3G -16.0733  -17.2717   -3855.9  Abbott_2008   NaN   \n",
       "2  3.0   46.0   NaN    C27-3C  -0.9917   81.3983   -4720.3  Abbott_2008   NaN   \n",
       "3  4.0   57.0   NaN    C27-3D  -0.9917   81.3983   -4720.3  Abbott_2008   NaN   \n",
       "4  5.0  176.0   NaN  EL21-10A -39.9900 -109.8550   -3194.4  Abbott_2008   NaN   \n",
       "\n",
       "   env  ... tc_pTfunc tc_numb tc_strategy Ref_ISGN   A_dom  \\\n",
       "0  NaN  ...       NaN     NaN         NaN      NaN  marine   \n",
       "1  NaN  ...       NaN     NaN         NaN      NaN  marine   \n",
       "2  NaN  ...       NaN     NaN         NaN      NaN  marine   \n",
       "3  NaN  ...       NaN     NaN         NaN      NaN  marine   \n",
       "4  NaN  ...       NaN     NaN         NaN      NaN  marine   \n",
       "\n",
       "                  A_reg                 A_cont  A_year Unnamed: 63 Unnamed: 64  \n",
       "0  South Atlantic Ocean   South American Plate  2008.0         NaN         NaN  \n",
       "1  South Atlantic Ocean   South American Plate  2008.0         NaN         NaN  \n",
       "2          Indian Ocean  Indo-Australian Plate  2008.0         NaN         NaN  \n",
       "3          Indian Ocean  Indo-Australian Plate  2008.0         NaN         NaN  \n",
       "4   South Pacific Ocean        Antarctic Plate  2008.0         NaN         NaN  \n",
       "\n",
       "[5 rows x 65 columns]"
      ]
     },
     "execution_count": 113,
     "metadata": {},
     "output_type": "execute_result"
    }
   ],
   "source": [
    "db1 = pd.read_csv('/home/mofoko/Documents/Metodologias/tdsp_template/scripts/data_acquisition/IHFC_2023_GHFDB.csv',\n",
    "                  sep=';', encoding=\"ISO-8859-1\")\n",
    "db1.head()"
   ]
  },
  {
   "cell_type": "code",
   "execution_count": 114,
   "metadata": {},
   "outputs": [
    {
     "name": "stdout",
     "output_type": "stream",
     "text": [
      "n de filas:74547 y n de columnas: 65\n"
     ]
    }
   ],
   "source": [
    "print(f'n de filas:{db1.shape[0]} y n de columnas: {db1.shape[1]}')"
   ]
  },
  {
   "attachments": {},
   "cell_type": "markdown",
   "metadata": {},
   "source": [
    "### Selección de variables\n",
    "---\n",
    "Seleccionamos las variables de interés"
   ]
  },
  {
   "cell_type": "code",
   "execution_count": 115,
   "metadata": {},
   "outputs": [
    {
     "data": {
      "text/plain": [
       "(74547, 8)"
      ]
     },
     "execution_count": 115,
     "metadata": {},
     "output_type": "execute_result"
    }
   ],
   "source": [
    "vars_selection = ['q','lat','lng','elevation','A_dom','A_reg','A_cont','A_year']\n",
    "db1_select = db1[vars_selection]\n",
    "db1_select.shape"
   ]
  },
  {
   "attachments": {},
   "cell_type": "markdown",
   "metadata": {},
   "source": [
    "### Búsqueda de valores nulos\n",
    "---\n",
    "Eliminamos las filas con valores nulos en nuestra variable de interés *Flujo de calor (q)*. "
   ]
  },
  {
   "cell_type": "code",
   "execution_count": 116,
   "metadata": {},
   "outputs": [
    {
     "data": {
      "text/plain": [
       "q            1514\n",
       "lat          1514\n",
       "lng          1514\n",
       "elevation    3775\n",
       "A_dom        1514\n",
       "A_reg        1514\n",
       "A_cont       1514\n",
       "A_year       1514\n",
       "dtype: int64"
      ]
     },
     "execution_count": 116,
     "metadata": {},
     "output_type": "execute_result"
    }
   ],
   "source": [
    "# Contamos la cantidad de valores nulos\n",
    "db1_select.isnull().sum()"
   ]
  },
  {
   "cell_type": "code",
   "execution_count": 117,
   "metadata": {},
   "outputs": [
    {
     "name": "stdout",
     "output_type": "stream",
     "text": [
      "n de filas:70772 y n de columnas: 8\n"
     ]
    }
   ],
   "source": [
    "# Eliminamos los valores nulos respecto a q\n",
    "db1_nonull = db1_select.dropna()\n",
    "# Shape despues de eliminar valores nulos\n",
    "print(f'n de filas:{db1_nonull.shape[0]} y n de columnas: {db1_nonull.shape[1]}')"
   ]
  },
  {
   "cell_type": "code",
   "execution_count": 118,
   "metadata": {},
   "outputs": [
    {
     "data": {
      "text/plain": [
       "q            0\n",
       "lat          0\n",
       "lng          0\n",
       "elevation    0\n",
       "A_dom        0\n",
       "A_reg        0\n",
       "A_cont       0\n",
       "A_year       0\n",
       "dtype: int64"
      ]
     },
     "execution_count": 118,
     "metadata": {},
     "output_type": "execute_result"
    }
   ],
   "source": [
    "# Contamos la cantidad de valores nulos despues de elimninar los de q\n",
    "db1_nonull.iloc[:,0:8].isnull().sum()"
   ]
  },
  {
   "attachments": {},
   "cell_type": "markdown",
   "metadata": {},
   "source": [
    "### Tipo da datos\n",
    "---\n",
    "Se inspecciona los tipos de datos que se tienen para cada variable. "
   ]
  },
  {
   "cell_type": "code",
   "execution_count": 119,
   "metadata": {},
   "outputs": [
    {
     "data": {
      "text/plain": [
       "q            float64\n",
       "lat          float64\n",
       "lng          float64\n",
       "elevation     object\n",
       "A_dom         object\n",
       "A_reg         object\n",
       "A_cont        object\n",
       "A_year       float64\n",
       "dtype: object"
      ]
     },
     "execution_count": 119,
     "metadata": {},
     "output_type": "execute_result"
    }
   ],
   "source": [
    "# Inspeccionamos inconsistencia en la tipologia de los datos \n",
    "db1_nonull.dtypes"
   ]
  },
  {
   "attachments": {},
   "cell_type": "markdown",
   "metadata": {},
   "source": [
    "La variable `elavation` presenta inconsistencias dado que esta debe ser un valor numérico y no carácter. Por tanto, podemos buscar valores no numéricos que estén en dicha columna."
   ]
  },
  {
   "cell_type": "code",
   "execution_count": 120,
   "metadata": {},
   "outputs": [
    {
     "name": "stdout",
     "output_type": "stream",
     "text": [
      "Non digit values in col elevation: (212,)\n",
      "Valores no digitos encontrados en la columna elevation: \n",
      "['?', 'Not specified', 'Unspecified']\n"
     ]
    }
   ],
   "source": [
    "# Patron regex para coincidir caracteres no digitos\n",
    "pattern = r'^\\D+$' \n",
    "# Busca cada fila de la columna elevation para verificar si no es digito\n",
    "col_elev_nodigi = db1_nonull[db1_nonull['elevation'].str.contains(pattern, na=False)]['elevation']\n",
    "print(f'Non digit values in col elevation: {col_elev_nodigi.shape}')\n",
    "# Valores unicos de los valores no digitos\n",
    "nodig_vals = col_elev_nodigi.unique().tolist()\n",
    "print(f'Valores no digitos encontrados en la columna elevation: \\n{nodig_vals}')"
   ]
  },
  {
   "cell_type": "code",
   "execution_count": 148,
   "metadata": {},
   "outputs": [
    {
     "name": "stderr",
     "output_type": "stream",
     "text": [
      "/tmp/ipykernel_5031/302769944.py:2: SettingWithCopyWarning: \n",
      "A value is trying to be set on a copy of a slice from a DataFrame.\n",
      "Try using .loc[row_indexer,col_indexer] = value instead\n",
      "\n",
      "See the caveats in the documentation: https://pandas.pydata.org/pandas-docs/stable/user_guide/indexing.html#returning-a-view-versus-a-copy\n",
      "  db1_nodig['elevation'] = (db1_nodig['elevation']\n"
     ]
    },
    {
     "data": {
      "text/plain": [
       "q            float64\n",
       "lat          float64\n",
       "lng          float64\n",
       "elevation    float64\n",
       "A_dom         object\n",
       "A_reg         object\n",
       "A_cont        object\n",
       "A_year       float64\n",
       "dtype: object"
      ]
     },
     "execution_count": 148,
     "metadata": {},
     "output_type": "execute_result"
    }
   ],
   "source": [
    "db1_nodig = db1_nonull[~db1_nonull['elevation'].isin(nodig_vals)]\n",
    "db1_nodig['elevation'] = (db1_nodig['elevation']\n",
    "                          .apply(lambda x: x.replace(',', '.') if isinstance(x, str) else x)\n",
    "                          .astype(float))\n",
    "db1_nodig.dtypes"
   ]
  },
  {
   "cell_type": "code",
   "execution_count": 149,
   "metadata": {},
   "outputs": [
    {
     "data": {
      "text/html": [
       "<div>\n",
       "<style scoped>\n",
       "    .dataframe tbody tr th:only-of-type {\n",
       "        vertical-align: middle;\n",
       "    }\n",
       "\n",
       "    .dataframe tbody tr th {\n",
       "        vertical-align: top;\n",
       "    }\n",
       "\n",
       "    .dataframe thead th {\n",
       "        text-align: right;\n",
       "    }\n",
       "</style>\n",
       "<table border=\"1\" class=\"dataframe\">\n",
       "  <thead>\n",
       "    <tr style=\"text-align: right;\">\n",
       "      <th></th>\n",
       "      <th>q</th>\n",
       "      <th>lat</th>\n",
       "      <th>lng</th>\n",
       "      <th>elevation</th>\n",
       "      <th>A_dom</th>\n",
       "      <th>A_reg</th>\n",
       "      <th>A_cont</th>\n",
       "      <th>A_year</th>\n",
       "    </tr>\n",
       "  </thead>\n",
       "  <tbody>\n",
       "    <tr>\n",
       "      <th>0</th>\n",
       "      <td>201.0</td>\n",
       "      <td>-16.0733</td>\n",
       "      <td>-17.2717</td>\n",
       "      <td>-3855.9</td>\n",
       "      <td>marine</td>\n",
       "      <td>South Atlantic Ocean</td>\n",
       "      <td>South American Plate</td>\n",
       "      <td>2008.0</td>\n",
       "    </tr>\n",
       "    <tr>\n",
       "      <th>1</th>\n",
       "      <td>214.0</td>\n",
       "      <td>-16.0733</td>\n",
       "      <td>-17.2717</td>\n",
       "      <td>-3855.9</td>\n",
       "      <td>marine</td>\n",
       "      <td>South Atlantic Ocean</td>\n",
       "      <td>South American Plate</td>\n",
       "      <td>2008.0</td>\n",
       "    </tr>\n",
       "    <tr>\n",
       "      <th>2</th>\n",
       "      <td>46.0</td>\n",
       "      <td>-0.9917</td>\n",
       "      <td>81.3983</td>\n",
       "      <td>-4720.3</td>\n",
       "      <td>marine</td>\n",
       "      <td>Indian Ocean</td>\n",
       "      <td>Indo-Australian Plate</td>\n",
       "      <td>2008.0</td>\n",
       "    </tr>\n",
       "    <tr>\n",
       "      <th>3</th>\n",
       "      <td>57.0</td>\n",
       "      <td>-0.9917</td>\n",
       "      <td>81.3983</td>\n",
       "      <td>-4720.3</td>\n",
       "      <td>marine</td>\n",
       "      <td>Indian Ocean</td>\n",
       "      <td>Indo-Australian Plate</td>\n",
       "      <td>2008.0</td>\n",
       "    </tr>\n",
       "    <tr>\n",
       "      <th>4</th>\n",
       "      <td>176.0</td>\n",
       "      <td>-39.9900</td>\n",
       "      <td>-109.8550</td>\n",
       "      <td>-3194.4</td>\n",
       "      <td>marine</td>\n",
       "      <td>South Pacific Ocean</td>\n",
       "      <td>Antarctic Plate</td>\n",
       "      <td>2008.0</td>\n",
       "    </tr>\n",
       "    <tr>\n",
       "      <th>...</th>\n",
       "      <td>...</td>\n",
       "      <td>...</td>\n",
       "      <td>...</td>\n",
       "      <td>...</td>\n",
       "      <td>...</td>\n",
       "      <td>...</td>\n",
       "      <td>...</td>\n",
       "      <td>...</td>\n",
       "    </tr>\n",
       "    <tr>\n",
       "      <th>73028</th>\n",
       "      <td>19.0</td>\n",
       "      <td>24.9000</td>\n",
       "      <td>122.7000</td>\n",
       "      <td>-1542.0</td>\n",
       "      <td>marine</td>\n",
       "      <td>East China Sea</td>\n",
       "      <td>Eurasian Plate - Asia</td>\n",
       "      <td>2019.0</td>\n",
       "    </tr>\n",
       "    <tr>\n",
       "      <th>73029</th>\n",
       "      <td>8.0</td>\n",
       "      <td>24.9200</td>\n",
       "      <td>122.7000</td>\n",
       "      <td>-1464.0</td>\n",
       "      <td>marine</td>\n",
       "      <td>East China Sea</td>\n",
       "      <td>Eurasian Plate - Asia</td>\n",
       "      <td>2019.0</td>\n",
       "    </tr>\n",
       "    <tr>\n",
       "      <th>73030</th>\n",
       "      <td>12.0</td>\n",
       "      <td>24.9400</td>\n",
       "      <td>122.7000</td>\n",
       "      <td>-1478.0</td>\n",
       "      <td>marine</td>\n",
       "      <td>East China Sea</td>\n",
       "      <td>Eurasian Plate - Asia</td>\n",
       "      <td>2019.0</td>\n",
       "    </tr>\n",
       "    <tr>\n",
       "      <th>73031</th>\n",
       "      <td>54.0</td>\n",
       "      <td>24.9600</td>\n",
       "      <td>122.7000</td>\n",
       "      <td>-1462.0</td>\n",
       "      <td>marine</td>\n",
       "      <td>East China Sea</td>\n",
       "      <td>Eurasian Plate - Asia</td>\n",
       "      <td>2019.0</td>\n",
       "    </tr>\n",
       "    <tr>\n",
       "      <th>73032</th>\n",
       "      <td>256.0</td>\n",
       "      <td>24.9800</td>\n",
       "      <td>122.7000</td>\n",
       "      <td>-1475.0</td>\n",
       "      <td>marine</td>\n",
       "      <td>East China Sea</td>\n",
       "      <td>Eurasian Plate - Asia</td>\n",
       "      <td>2019.0</td>\n",
       "    </tr>\n",
       "  </tbody>\n",
       "</table>\n",
       "<p>70560 rows × 8 columns</p>\n",
       "</div>"
      ],
      "text/plain": [
       "           q      lat       lng  elevation   A_dom                 A_reg  \\\n",
       "0      201.0 -16.0733  -17.2717    -3855.9  marine  South Atlantic Ocean   \n",
       "1      214.0 -16.0733  -17.2717    -3855.9  marine  South Atlantic Ocean   \n",
       "2       46.0  -0.9917   81.3983    -4720.3  marine          Indian Ocean   \n",
       "3       57.0  -0.9917   81.3983    -4720.3  marine          Indian Ocean   \n",
       "4      176.0 -39.9900 -109.8550    -3194.4  marine   South Pacific Ocean   \n",
       "...      ...      ...       ...        ...     ...                   ...   \n",
       "73028   19.0  24.9000  122.7000    -1542.0  marine        East China Sea   \n",
       "73029    8.0  24.9200  122.7000    -1464.0  marine        East China Sea   \n",
       "73030   12.0  24.9400  122.7000    -1478.0  marine        East China Sea   \n",
       "73031   54.0  24.9600  122.7000    -1462.0  marine        East China Sea   \n",
       "73032  256.0  24.9800  122.7000    -1475.0  marine        East China Sea   \n",
       "\n",
       "                      A_cont  A_year  \n",
       "0       South American Plate  2008.0  \n",
       "1       South American Plate  2008.0  \n",
       "2      Indo-Australian Plate  2008.0  \n",
       "3      Indo-Australian Plate  2008.0  \n",
       "4            Antarctic Plate  2008.0  \n",
       "...                      ...     ...  \n",
       "73028  Eurasian Plate - Asia  2019.0  \n",
       "73029  Eurasian Plate - Asia  2019.0  \n",
       "73030  Eurasian Plate - Asia  2019.0  \n",
       "73031  Eurasian Plate - Asia  2019.0  \n",
       "73032  Eurasian Plate - Asia  2019.0  \n",
       "\n",
       "[70560 rows x 8 columns]"
      ]
     },
     "execution_count": 149,
     "metadata": {},
     "output_type": "execute_result"
    }
   ],
   "source": [
    "db1_nodig"
   ]
  },
  {
   "cell_type": "code",
   "execution_count": null,
   "metadata": {},
   "outputs": [],
   "source": []
  }
 ],
 "metadata": {
  "kernelspec": {
   "display_name": "oceanenv",
   "language": "python",
   "name": "python3"
  },
  "language_info": {
   "codemirror_mode": {
    "name": "ipython",
    "version": 3
   },
   "file_extension": ".py",
   "mimetype": "text/x-python",
   "name": "python",
   "nbconvert_exporter": "python",
   "pygments_lexer": "ipython3",
   "version": "3.11.3"
  },
  "orig_nbformat": 4
 },
 "nbformat": 4,
 "nbformat_minor": 2
}
